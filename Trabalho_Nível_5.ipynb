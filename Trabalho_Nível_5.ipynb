{
  "nbformat": 4,
  "nbformat_minor": 0,
  "metadata": {
    "colab": {
      "provenance": [],
      "authorship_tag": "ABX9TyMHpvT7+2jxd4ww3fANou41",
      "include_colab_link": true
    },
    "kernelspec": {
      "name": "python3",
      "display_name": "Python 3"
    },
    "language_info": {
      "name": "python"
    }
  },
  "cells": [
    {
      "cell_type": "markdown",
      "metadata": {
        "id": "view-in-github",
        "colab_type": "text"
      },
      "source": [
        "<a href=\"https://colab.research.google.com/github/joaorainier/Faculdade-Estacio/blob/main/Trabalho_N%C3%ADvel_5.ipynb\" target=\"_parent\"><img src=\"https://colab.research.google.com/assets/colab-badge.svg\" alt=\"Open In Colab\"/></a>"
      ]
    },
    {
      "cell_type": "code",
      "source": [
        "# Disciplina  : [Desenvolvimento Full Stack]\n",
        "# Professor   : Robson Lorbiesk\n",
        "# Descrição   : Implementar um programa para manipular dados de um arquivo texto e visualizá-los em um histograma e nuvem de palavras.\n",
        "# Autor(a)    : João Rainier de Castro Carvalho\n",
        "# Data atual  : 28/10/2022"
      ],
      "metadata": {
        "id": "Joy8HHr2fFCe"
      },
      "execution_count": 4,
      "outputs": []
    },
    {
      "cell_type": "code",
      "source": [
        "#Import\n",
        "\n",
        "from collections import Counter\n",
        "from random import randint\n",
        "from faker import Faker\n",
        "from matplotlib import pyplot as plt\n",
        "from num2words import num2words\n",
        "from wordcloud import WordCloud"
      ],
      "metadata": {
        "id": "7iDW1b7xeiKm"
      },
      "execution_count": null,
      "outputs": []
    },
    {
      "cell_type": "code",
      "source": [
        "#Criação dos nomes e pontuações falsas.\n",
        "\n",
        "falso = Faker('pt_BR')\n",
        "Faker.seed(0)\n",
        "with open(\"nomes.txt\", \"w\") as arquivo:\n",
        "    for c in range(84):\n",
        "        nomefalso = falso.name()\n",
        "        pontuacao = falso.pyint(1, 100)\n",
        "        arquivo.write(f\"Nome: {nomefalso} - Pontos = {pontuacao}\\n\")\n",
        "arquivo.close()"
      ],
      "metadata": {
        "id": "czf7lUYgeHMK"
      },
      "execution_count": null,
      "outputs": []
    },
    {
      "cell_type": "code",
      "source": [
        "#Manipulador de arquivo.\n",
        "nomes_falso = []\n",
        "pontos_falso = []\n",
        "arquivo = open(\"nomes.txt\", \"r+\")\n",
        "for linha in arquivo:\n",
        "    linha = linha.split('=')\n",
        "    nomes_falso.append(linha[0])\n",
        "    pontos_falso.append(int(linha[1]))\n",
        "nomes_falso.pop(0)\n",
        "pontos_falso.pop(0)\n",
        "\n",
        "string_pont = []\n",
        "for _ in pontos_falso:\n",
        "    palavra = num2words(_, lang='pt')\n",
        "    string_pont.append(palavra)"
      ],
      "metadata": {
        "id": "NEL-0p2SeThK"
      },
      "execution_count": null,
      "outputs": []
    },
    {
      "cell_type": "code",
      "source": [
        "#Histograma das Pontuações.\n",
        "n, bins, colunas = plt.hist(pontos_falso, density=True,\n",
        "                            facecolor='yellow', alpha=0.75)\n",
        "num_bins = 15\n",
        "plt.hist(pontos_falso, num_bins, density=True,\n",
        "         facecolor='blue', alpha=0.75)\n",
        "plt.xlabel('Valores')\n",
        "plt.ylabel('Probabilidade')\n",
        "plt.title('Histograma dos valores')\n",
        "plt.grid(True)\n",
        "plt.show()"
      ],
      "metadata": {
        "id": "Tzxa_S-VeaX6"
      },
      "execution_count": null,
      "outputs": []
    },
    {
      "cell_type": "code",
      "execution_count": null,
      "metadata": {
        "id": "_o4ieQHq8M68"
      },
      "outputs": [],
      "source": [
        "# Nuvem de Palavras.\n",
        "nuvem = Counter(string_pont)\n",
        "wordcloud = WordCloud(width=800,\n",
        "                      height=600).generate_from_frequencies(nuvem)\n",
        "plt.imshow(wordcloud, interpolation='bilinear')\n",
        "plt.axis(\"off\")\n",
        "wordcloud.to_file(\"nuvempalavras.png\")\n",
        "plt.show()"
      ]
    }
  ]
}