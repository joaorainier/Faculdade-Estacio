{
  "nbformat": 4,
  "nbformat_minor": 0,
  "metadata": {
    "colab": {
      "provenance": [],
      "authorship_tag": "ABX9TyNTfnSpFu3Cf5F1Zd45sVQY",
      "include_colab_link": true
    },
    "kernelspec": {
      "name": "python3",
      "display_name": "Python 3"
    },
    "language_info": {
      "name": "python"
    }
  },
  "cells": [
    {
      "cell_type": "markdown",
      "metadata": {
        "id": "view-in-github",
        "colab_type": "text"
      },
      "source": [
        "<a href=\"https://colab.research.google.com/github/joaorainier/Faculdade-Estacio/blob/main/Trabalho_n%C3%ADvel_2.ipynb\" target=\"_parent\"><img src=\"https://colab.research.google.com/assets/colab-badge.svg\" alt=\"Open In Colab\"/></a>"
      ]
    },
    {
      "cell_type": "code",
      "source": [
        "# Disciplina  : [Desenvolvimento Full Stack]\n",
        "# Professor   : André Luiz Avelino Sobral\n",
        "# Descrição   : Implementar um algoritmo de conversão de um número da base decimal para base binária.\n",
        "# Autor(a)    : João Rainier de Castro Carvalho\n",
        "# Data atual  : 09/10/2022"
      ],
      "metadata": {
        "id": "PoD0PaWXgnJ9"
      },
      "execution_count": null,
      "outputs": []
    },
    {
      "cell_type": "code",
      "source": [
        "#Entrada\n",
        "div = int(input('Digite um número para ser convertido em binário: '))\n",
        "num = div\n",
        "q = 1\n",
        "lista = []"
      ],
      "metadata": {
        "id": "GvWOyKTwhUUX"
      },
      "execution_count": null,
      "outputs": []
    },
    {
      "cell_type": "code",
      "source": [
        "#Programa\n",
        "while q >= 1:\n",
        "    resto = div % 2\n",
        "    lista.insert(0,resto)\n",
        "    q = div // 2\n",
        "    div = q"
      ],
      "metadata": {
        "id": "iFa8r0VyCy_k"
      },
      "execution_count": null,
      "outputs": []
    },
    {
      "cell_type": "code",
      "source": [
        "#Resultado\n",
        "bin = ''.join([str(item) for item in lista])\n",
        "print('O numero {} em binário é {}'.format(num, bin))"
      ],
      "metadata": {
        "id": "5IZiSr2xhZjH"
      },
      "execution_count": null,
      "outputs": []
    }
  ]
}
