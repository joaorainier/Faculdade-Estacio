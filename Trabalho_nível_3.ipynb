{
  "nbformat": 4,
  "nbformat_minor": 0,
  "metadata": {
    "colab": {
      "provenance": [],
      "authorship_tag": "ABX9TyO0FSpKkSF3WJTBsEXrwckG",
      "include_colab_link": true
    },
    "kernelspec": {
      "name": "python3",
      "display_name": "Python 3"
    },
    "language_info": {
      "name": "python"
    }
  },
  "cells": [
    {
      "cell_type": "markdown",
      "metadata": {
        "id": "view-in-github",
        "colab_type": "text"
      },
      "source": [
        "<a href=\"https://colab.research.google.com/github/joaorainier/Faculdade-Estacio/blob/main/Trabalho_n%C3%ADvel_3.ipynb\" target=\"_parent\"><img src=\"https://colab.research.google.com/assets/colab-badge.svg\" alt=\"Open In Colab\"/></a>"
      ]
    },
    {
      "cell_type": "code",
      "source": [
        "# Disciplina  : [Desenvolvimento Full Stack]\n",
        "# Professor   : Guilherme Dutra Gonzaga Jaime\n",
        "# Descrição   : Implementação do algoritmo para obter o conjunto das partes de um conjunto.\n",
        "# Autor(a)    : João Rainier de Castro Carvalho\n",
        "# Data atual  : 24/10/2022"
      ],
      "metadata": {
        "id": "5ZurmK35j-k_"
      },
      "execution_count": null,
      "outputs": []
    },
    {
      "cell_type": "code",
      "execution_count": 1,
      "metadata": {
        "id": "AsH9K7X5chSj"
      },
      "outputs": [],
      "source": [
        "# Solicitação ao usuário para criar seu conjunto.\n",
        "def conjuntoq():\n",
        "    global c\n",
        "    c = int(input(\"Qual a quantidade de elementos dos conjuntos? \"))\n",
        "    for elemento in range(0, c):\n",
        "        conjunto.append(input(\"Digite os elementos dos conjuntos: \"))\n",
        "    return conjunto"
      ]
    },
    {
      "cell_type": "code",
      "source": [
        "# Gerar 1ª subconjunto\n",
        "def primeiro_sub(subconj):\n",
        "    return segundo_sub([],subconj)\n",
        "\n",
        "# Gerar 2ª subconjunto\n",
        "def segundo_sub(current, conj):\n",
        "    if conj:\n",
        "        return segundo_sub(current,conj[1:]) + segundo_sub(current+[conj[0]],conj[1:])\n",
        "    return [current]"
      ],
      "metadata": {
        "id": "j7JxZxjvf6Jq"
      },
      "execution_count": 2,
      "outputs": []
    },
    {
      "cell_type": "code",
      "source": [
        "# Início do Programa\n",
        "conjunto = []\n",
        "conj = conjunto\n",
        "conjuntoq()\n",
        "\n",
        "print(f\"Os conjuntos escolhidos pelo usuário foram: {conjunto}\")\n",
        "\n",
        "# Quantidade de subconjuntos\n",
        "quantidade = 2**c\n",
        "\n",
        "print(f\"Estes são os subconjuntos: {sorted(primeiro_sub(conj))}\")\n",
        "\n",
        "print(f\"A quantidade de subconjuntos gerados são: {quantidade}\")"
      ],
      "metadata": {
        "id": "iRbBZ-0jf-r1"
      },
      "execution_count": null,
      "outputs": []
    }
  ]
}